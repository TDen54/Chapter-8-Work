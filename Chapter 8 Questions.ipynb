{
 "cells": [
  {
   "cell_type": "markdown",
   "id": "83c870f4",
   "metadata": {},
   "source": [
    "#Chapter 8"
   ]
  },
  {
   "cell_type": "markdown",
   "id": "ddbfb828",
   "metadata": {},
   "source": [
    "##Alogrithm Workbench Question 6"
   ]
  },
  {
   "cell_type": "code",
   "execution_count": 1,
   "id": "0b91da16",
   "metadata": {},
   "outputs": [
    {
     "name": "stdout",
     "output_type": "stream",
     "text": [
      "This is a TesT sTring\n"
     ]
    }
   ],
   "source": [
    "original_string = \"this is a test string\"\n",
    "\n",
    "# empty string to store the modified copy\n",
    "modified_string = \"\"\n",
    "\n",
    "# characters of the original string\n",
    "for char in original_string:\n",
    "    if char == 't':\n",
    "        modified_string += 'T'  # Convert 't' to 'T'\n",
    "    else:\n",
    "        modified_string += char  # Keep other characters as is\n",
    "# modified string\n",
    "print(modified_string)\n"
   ]
  },
  {
   "cell_type": "markdown",
   "id": "506c79ab",
   "metadata": {},
   "source": [
    "Converts all lowercase 't' characters to uppercase 'T' in a given string. It does this by iterating through each character in the input string, checking if the character is 't', and replacing it with 'T' if it is. The modified string is stored in a separate variable, and the result is printed."
   ]
  },
  {
   "cell_type": "markdown",
   "id": "4030a207",
   "metadata": {},
   "source": [
    "##Question 7"
   ]
  },
  {
   "cell_type": "code",
   "execution_count": 3,
   "id": "fe33a344",
   "metadata": {},
   "outputs": [
    {
     "name": "stdout",
     "output_type": "stream",
     "text": [
      "roverT omall em ,aloH\n"
     ]
    }
   ],
   "source": [
    "def display_string_backwards(input_string):\n",
    "    reversed_string = input_string[::-1]\n",
    "    print(reversed_string)\n",
    "\n",
    "# Test the function\n",
    "input_string = \"Hola, me llamo Trevor\"\n",
    "display_string_backwards(input_string)\n"
   ]
  },
  {
   "cell_type": "code",
   "execution_count": 5,
   "id": "212adad1",
   "metadata": {},
   "outputs": [
    {
     "name": "stdout",
     "output_type": "stream",
     "text": [
      "racecar\n"
     ]
    }
   ],
   "source": [
    "def display_string_backwards(input_string):\n",
    "    reversed_string = input_string[::-1]\n",
    "    print(reversed_string)\n",
    "\n",
    "# Test the function\n",
    "input_string = \"racecar\"\n",
    "display_string_backwards(input_string)\n"
   ]
  },
  {
   "cell_type": "markdown",
   "id": "0566b389",
   "metadata": {},
   "source": [
    "The function display_string_backwards takes an input string and reverses it using string slicing input_string, which effectively flips the string. The reversed string is then printed, allowing you to display the original string in a backward order."
   ]
  },
  {
   "cell_type": "markdown",
   "id": "04632072",
   "metadata": {},
   "source": [
    "#Programming Exercises"
   ]
  },
  {
   "cell_type": "markdown",
   "id": "6cb7be4b",
   "metadata": {},
   "source": [
    "##Question 1"
   ]
  },
  {
   "cell_type": "code",
   "execution_count": 6,
   "id": "77197eb8",
   "metadata": {},
   "outputs": [
    {
     "name": "stdout",
     "output_type": "stream",
     "text": [
      "Enter a person's first, middle, and last names: Trevor William Dennis\n",
      "Initials: T. W. D. \n"
     ]
    }
   ],
   "source": [
    "def get_initials(full_name):\n",
    "    name_parts = full_name.split()\n",
    "    \n",
    "    #  variable to store the initials\n",
    "    initials = \"\"\n",
    "    \n",
    "    #  name parts\n",
    "    for name in name_parts:\n",
    "        initials += name[0].upper() + \". \"\n",
    "    \n",
    "    return initials\n",
    "\n",
    "#  full name from the user\n",
    "full_name = input(\"Enter a person's first, middle, and last names: \")\n",
    "\n",
    "#  display the initials\n",
    "initials = get_initials(full_name)\n",
    "print(\"Initials:\", initials)\n"
   ]
  },
  {
   "cell_type": "markdown",
   "id": "05df6d39",
   "metadata": {},
   "source": [
    "I created a Python program called get_initials that takes a full name as input. It uses the split() method to separate the name into individual parts (first, middle, last), and then iterates through these parts to extract the first character, convert it to uppercase, and add a period and space to create initials. The program collects all the initials and returns them as a string, which is then displayed."
   ]
  },
  {
   "cell_type": "markdown",
   "id": "a1fd7a26",
   "metadata": {},
   "source": [
    "##Question 2"
   ]
  },
  {
   "cell_type": "code",
   "execution_count": 7,
   "id": "2e2f5c6a",
   "metadata": {},
   "outputs": [
    {
     "name": "stdout",
     "output_type": "stream",
     "text": [
      "Enter a series of single-digit numbers with nothing separating them: 17934\n",
      "Sum of single-digit numbers: 24\n"
     ]
    }
   ],
   "source": [
    "def sum_single_digit_numbers(user_input):\n",
    "    total = 0\n",
    "    for char in user_input:\n",
    "        if char.isdigit() and int(char) >= 0 and int(char) <= 9:\n",
    "            total += int(char)\n",
    "    return total\n",
    "\n",
    "# user input\n",
    "user_input = input(\"Enter a series of single-digit numbers with nothing separating them: \")\n",
    "\n",
    "# display the sum of single-digit numbers\n",
    "result = sum_single_digit_numbers(user_input)\n",
    "print(\"Sum of single-digit numbers:\", result)\n"
   ]
  },
  {
   "cell_type": "markdown",
   "id": "97e6ee62",
   "metadata": {},
   "source": [
    "I created a Python program that calculates the sum of single-digit numbers entered in a string. It uses a for loop to iterate through each character in the input, checks if the character is a digit within the range 0-9, and adds it to the running total. The final sum is displayed as the result."
   ]
  },
  {
   "cell_type": "markdown",
   "id": "e947121b",
   "metadata": {},
   "source": [
    "##Question 3"
   ]
  },
  {
   "cell_type": "code",
   "execution_count": 8,
   "id": "a946c3be",
   "metadata": {},
   "outputs": [
    {
     "name": "stdout",
     "output_type": "stream",
     "text": [
      "Enter a date in the format mm/dd/yyyy: 04/29/2004\n",
      "Formatted date: April 29, 2004\n"
     ]
    }
   ],
   "source": [
    "from datetime import datetime\n",
    "\n",
    "def format_date(input_date):\n",
    "    try:\n",
    "        #  input date string into a datetime object\n",
    "        date_obj = datetime.strptime(input_date, '%m/%d/%Y')\n",
    "\n",
    "        #  datetime object into the desired format\n",
    "        formatted_date = date_obj.strftime('%B %d, %Y')\n",
    "\n",
    "        return formatted_date\n",
    "    except ValueError:\n",
    "        return \"Invalid date format. Please use mm/dd/yyyy.\"\n",
    "\n",
    "# input date from the user\n",
    "input_date = input(\"Enter a date in the format mm/dd/yyyy: \")\n",
    "\n",
    "# display the date\n",
    "formatted_date = format_date(input_date)\n",
    "print(\"Formatted date:\", formatted_date)\n"
   ]
  },
  {
   "cell_type": "markdown",
   "id": "a4f0a3a5",
   "metadata": {},
   "source": [
    "I created a Python program that reads a date in the mm/dd/yyyy format. It uses the datetime module to parse the input date and then formats it into the desired format \"Month day, year\" using strftime. The program also provides a message for handling invalid date format input."
   ]
  },
  {
   "cell_type": "markdown",
   "id": "df7d187b",
   "metadata": {},
   "source": [
    "##Question 10"
   ]
  },
  {
   "cell_type": "code",
   "execution_count": 10,
   "id": "9171fc83",
   "metadata": {},
   "outputs": [
    {
     "name": "stdout",
     "output_type": "stream",
     "text": [
      "Enter a string: 102948029101920291284284208418480248\n",
      "Most frequent character: 2\n"
     ]
    }
   ],
   "source": [
    "from collections import Counter\n",
    "\n",
    "def most_frequent_character(input_string):\n",
    "    #  count the occurrences of each character\n",
    "    char_count = Counter(input_string)\n",
    "    \n",
    "    # character with the maximum count\n",
    "    most_common_char = char_count.most_common(1)[0][0]\n",
    "    \n",
    "    return most_common_char\n",
    "\n",
    "#  input string from the user\n",
    "input_string = input(\"Enter a string: \")\n",
    "\n",
    "# display the most frequent character\n",
    "result = most_frequent_character(input_string)\n",
    "print(\"Most frequent character:\", result)\n"
   ]
  },
  {
   "cell_type": "markdown",
   "id": "8e8fbcd4",
   "metadata": {},
   "source": [
    "I created a Python program that allows the user to enter a string. The program uses the Counter class from the collections module to count the occurrences of each character in the input string. It then identifies and displays the character with the highest count, representing the most frequent character in the string."
   ]
  }
 ],
 "metadata": {
  "kernelspec": {
   "display_name": "Python 3 (ipykernel)",
   "language": "python",
   "name": "python3"
  },
  "language_info": {
   "codemirror_mode": {
    "name": "ipython",
    "version": 3
   },
   "file_extension": ".py",
   "mimetype": "text/x-python",
   "name": "python",
   "nbconvert_exporter": "python",
   "pygments_lexer": "ipython3",
   "version": "3.11.4"
  }
 },
 "nbformat": 4,
 "nbformat_minor": 5
}
